{
 "cells": [
  {
   "cell_type": "code",
   "execution_count": 1,
   "id": "e0fbee01-1497-4c5f-9e60-b13d5da5d656",
   "metadata": {
    "tags": []
   },
   "outputs": [],
   "source": [
    "import random"
   ]
  },
  {
   "cell_type": "code",
   "execution_count": 2,
   "id": "c70775bc-2c5c-42cd-8b08-ef2f26bae049",
   "metadata": {
    "tags": []
   },
   "outputs": [],
   "source": [
    "random_number = random.randint(1,101)"
   ]
  },
  {
   "cell_type": "code",
   "execution_count": 3,
   "id": "0a05d3a4-7c9e-4909-bf8e-b61d25bae487",
   "metadata": {
    "tags": []
   },
   "outputs": [
    {
     "name": "stdout",
     "output_type": "stream",
     "text": [
      "73\n"
     ]
    }
   ],
   "source": [
    "print(random_number)"
   ]
  },
  {
   "cell_type": "code",
   "execution_count": 4,
   "id": "aa22bf3a-2752-4753-9305-449e278a5376",
   "metadata": {
    "tags": []
   },
   "outputs": [],
   "source": [
    "import Pi"
   ]
  },
  {
   "cell_type": "code",
   "execution_count": 6,
   "id": "4ffa8f2e-7b36-4ecf-96da-54da7bb73bd6",
   "metadata": {
    "tags": []
   },
   "outputs": [
    {
     "name": "stdout",
     "output_type": "stream",
     "text": [
      "3.141592653589793\n"
     ]
    }
   ],
   "source": [
    "print(Pi.pi)"
   ]
  },
  {
   "cell_type": "code",
   "execution_count": 9,
   "id": "c62b8225-53af-4db7-9ac0-87fc314b72aa",
   "metadata": {
    "tags": []
   },
   "outputs": [],
   "source": [
    "random_float = random.random()"
   ]
  },
  {
   "cell_type": "code",
   "execution_count": 13,
   "id": "900750d2-a866-4986-881a-51bdcdd7c445",
   "metadata": {
    "tags": []
   },
   "outputs": [
    {
     "name": "stdout",
     "output_type": "stream",
     "text": [
      "0.86044611774649\n"
     ]
    }
   ],
   "source": [
    "print(random_float)"
   ]
  },
  {
   "cell_type": "code",
   "execution_count": 14,
   "id": "82734b6c-1cfd-4bbe-9a30-ca98d74e2ca5",
   "metadata": {
    "tags": []
   },
   "outputs": [
    {
     "data": {
      "text/plain": [
       "4.30223058873245"
      ]
     },
     "execution_count": 14,
     "metadata": {},
     "output_type": "execute_result"
    }
   ],
   "source": [
    "random_float * 5"
   ]
  },
  {
   "cell_type": "code",
   "execution_count": 15,
   "id": "2f0f47ee-b2fc-4b29-a5e6-a7914a73dfb8",
   "metadata": {
    "tags": []
   },
   "outputs": [],
   "source": [
    "love_score = random.randint(1,101)"
   ]
  },
  {
   "cell_type": "code",
   "execution_count": 16,
   "id": "e0789908-0628-4668-962d-3fbc1ca7bf85",
   "metadata": {
    "tags": []
   },
   "outputs": [
    {
     "name": "stdout",
     "output_type": "stream",
     "text": [
      "Your love score is 59\n"
     ]
    }
   ],
   "source": [
    "print(f'Your love score is {love_score}')"
   ]
  },
  {
   "cell_type": "code",
   "execution_count": 17,
   "id": "6253aba9-3ce5-440c-90c4-974891e0d23e",
   "metadata": {
    "tags": []
   },
   "outputs": [],
   "source": [
    "    fruits = [\"Strawberries\", \"Nectarines\", \"Apples\", \"Grapes\", \"Peaches\", \"Cherries\", \"Pears\"]"
   ]
  },
  {
   "cell_type": "code",
   "execution_count": 18,
   "id": "e0d4e4b6-2a9b-4f8a-baa6-e9273579c58a",
   "metadata": {
    "tags": []
   },
   "outputs": [
    {
     "data": {
      "text/plain": [
       "'Apples'"
      ]
     },
     "execution_count": 18,
     "metadata": {},
     "output_type": "execute_result"
    }
   ],
   "source": [
    "fruits[-5]"
   ]
  },
  {
   "cell_type": "code",
   "execution_count": 19,
   "id": "a04d6c5c-5422-4a97-84fb-21aa2c162ea1",
   "metadata": {
    "tags": []
   },
   "outputs": [
    {
     "name": "stdout",
     "output_type": "stream",
     "text": [
      "['Strawberries', 'Nectarines', 'Apples', 'Grapes', 'Peaches', 'Cherries', 'Melons', 'Lemons']\n"
     ]
    }
   ],
   "source": [
    "    fruits = [\"Strawberries\", \"Nectarines\", \"Apples\", \"Grapes\", \"Peaches\", \"Cherries\", \"Pears\"]\n",
    "    fruits[-1] = \"Melons\"\n",
    "    fruits.append(\"Lemons\")\n",
    "    print(fruits)"
   ]
  },
  {
   "cell_type": "code",
   "execution_count": 20,
   "id": "8c806271-04ee-4c39-9d53-7647c10deb1d",
   "metadata": {
    "tags": []
   },
   "outputs": [
    {
     "name": "stdout",
     "output_type": "stream",
     "text": [
      "Kale\n"
     ]
    }
   ],
   "source": [
    "    fruits = [\"Strawberries\", \"Nectarines\", \"Apples\", \"Grapes\", \"Peaches\", \"Cherries\", \"Pears\"]\n",
    "    vegetables = [\"Spinach\", \"Kale\", \"Tomatoes\", \"Celery\", \"Potatoes\"]\n",
    "     \n",
    "    dirty_dozen = [fruits, vegetables]\n",
    "     \n",
    "    print(dirty_dozen[1][1])"
   ]
  },
  {
   "cell_type": "code",
   "execution_count": 26,
   "id": "494e7d27-c3c5-4bb3-b69d-5256cc017248",
   "metadata": {
    "tags": []
   },
   "outputs": [
    {
     "name": "stdout",
     "output_type": "stream",
     "text": [
      "['Spinach', 'Kale', 'Tomatoes', 'Celery', 'Potatoes']\n",
      "Celery\n"
     ]
    }
   ],
   "source": [
    "#     print(dirty_dozen)\n",
    "\n",
    "\n",
    "\n",
    "#print(dirty_dozen[0])\n",
    "print(dirty_dozen[1])\n",
    "\n",
    "# To see what happens at the next stage print out:\n",
    "\n",
    "#print(dirty_dozen[1][2])\n",
    "print(dirty_dozen[1][3])"
   ]
  },
  {
   "cell_type": "code",
   "execution_count": null,
   "id": "f871fe33-b6f9-4f21-936f-03762099a345",
   "metadata": {},
   "outputs": [],
   "source": []
  },
  {
   "cell_type": "code",
   "execution_count": 27,
   "id": "dec38aef-f736-49b8-9036-fe5b4e97d44c",
   "metadata": {
    "tags": []
   },
   "outputs": [
    {
     "data": {
      "text/plain": [
       "2"
      ]
     },
     "execution_count": 27,
     "metadata": {},
     "output_type": "execute_result"
    }
   ],
   "source": [
    "list_numbers = [1, 2, 3, 4, 5, 6, 7, 8, 9, 10]\n",
    "element = 3\n",
    "list_numbers.index(element)"
   ]
  },
  {
   "cell_type": "code",
   "execution_count": 70,
   "id": "a1c4799c-ced8-44ca-a53f-72f5339bd430",
   "metadata": {
    "tags": []
   },
   "outputs": [
    {
     "name": "stdin",
     "output_type": "stream",
     "text": [
      "What do you choose? Type 0 for Rock, 1 for Paper, or 2 for Scissors.\n",
      " 0\n"
     ]
    },
    {
     "name": "stdout",
     "output_type": "stream",
     "text": [
      "\n",
      "    _______\n",
      "---'   ____)\n",
      "      (_____)\n",
      "      (_____)\n",
      "      (____)\n",
      "---.__(___)\n",
      "\n",
      "Computer chose:\n",
      "\n",
      "    _______\n",
      "---'   ____)____\n",
      "          ______)\n",
      "          _______)\n",
      "         _______)\n",
      "---.__________)\n",
      "\n",
      "You lose!\n"
     ]
    }
   ],
   "source": [
    "rock = '''\n",
    "    _______\n",
    "---'   ____)\n",
    "      (_____)\n",
    "      (_____)\n",
    "      (____)\n",
    "---.__(___)\n",
    "'''\n",
    "\n",
    "paper = '''\n",
    "    _______\n",
    "---'   ____)____\n",
    "          ______)\n",
    "          _______)\n",
    "         _______)\n",
    "---.__________)\n",
    "'''\n",
    "\n",
    "scissors = '''\n",
    "    _______\n",
    "---'   ____)____\n",
    "          ______)\n",
    "       __________)\n",
    "      (____)\n",
    "---.__(___)\n",
    "'''\n",
    "\n",
    "#Write your code below this line 👇\n",
    "game_images = [rock, paper, scissors]\n",
    "user_input = int(input(\"What do you choose? Type 0 for Rock, 1 for Paper, or 2 for Scissors.\\n\"))\n",
    "if user_input >= 3 or user_input < 0:\n",
    "    print(\"You typed an invalid number, therefore you lose!\")\n",
    "else: \n",
    "    print(game_images[user_input])\n",
    "\n",
    "    computer_choice = random.randint(0,2)\n",
    "    print(f'Computer chose:')\n",
    "    print(game_images[computer_choice])\n",
    "\n",
    "    if user_input == 0 and computer_choice == 2:\n",
    "        print(\"You win!\")\n",
    "    elif computer_choice == 0 and user_input == 2:\n",
    "        print(\"You lose!\")\n",
    "    elif computer_choice > user_input:\n",
    "        print(\"You lose!\")\n",
    "    elif user_input > computer_choice:\n",
    "        print(\"You win!\")\n",
    "    elif computer_choice == user_input:\n",
    "        print(\"It's a draw!\")\n"
   ]
  },
  {
   "cell_type": "code",
   "execution_count": null,
   "id": "a5a7abc9-b4ff-44ac-b848-effad0810630",
   "metadata": {},
   "outputs": [],
   "source": []
  },
  {
   "cell_type": "code",
   "execution_count": null,
   "id": "050eceaf-b4fc-4932-a1a1-2f91e54a93f5",
   "metadata": {},
   "outputs": [],
   "source": []
  },
  {
   "cell_type": "code",
   "execution_count": null,
   "id": "7f7983d4-02df-4881-9c46-d5fc15aefeba",
   "metadata": {},
   "outputs": [],
   "source": []
  },
  {
   "cell_type": "code",
   "execution_count": null,
   "id": "32e6ed25-79cf-4aaf-9d59-939e6fc12771",
   "metadata": {},
   "outputs": [],
   "source": []
  },
  {
   "cell_type": "code",
   "execution_count": null,
   "id": "f3f89a4f-c3ca-4d4a-9ca9-8def4895c69c",
   "metadata": {},
   "outputs": [],
   "source": []
  },
  {
   "cell_type": "code",
   "execution_count": null,
   "id": "dedd20f9-46cf-4a96-9f2c-e62a22665ae7",
   "metadata": {},
   "outputs": [],
   "source": []
  }
 ],
 "metadata": {
  "kernelspec": {
   "display_name": "Python 3 (ipykernel)",
   "language": "python",
   "name": "python3"
  },
  "language_info": {
   "codemirror_mode": {
    "name": "ipython",
    "version": 3
   },
   "file_extension": ".py",
   "mimetype": "text/x-python",
   "name": "python",
   "nbconvert_exporter": "python",
   "pygments_lexer": "ipython3",
   "version": "3.11.5"
  }
 },
 "nbformat": 4,
 "nbformat_minor": 5
}
